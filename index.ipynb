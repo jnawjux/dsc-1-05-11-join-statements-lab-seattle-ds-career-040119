{
 "cells": [
  {
   "cell_type": "markdown",
   "metadata": {},
   "source": [
    "# Join Statements - Lab\n",
    "\n",
    "## Introduction\n",
    "\n",
    "In this lab, you'll practice your knowledge on Join statements.\n",
    "\n",
    "## Objectives\n",
    "\n",
    "You will be able to:\n",
    "- Write queries that make use of various types of Joins\n",
    "- Join tables using foreign keys"
   ]
  },
  {
   "cell_type": "markdown",
   "metadata": {},
   "source": [
    "## CRM Schema\n",
    "\n",
    "In almost all cases, rather then just working with a single table we will typically need data from multiple tables. \n",
    "Doing this requires the use of **joins ** using shared columns from the two tables. \n",
    "\n",
    "In this lab, we'll use the same Customer Relationship Management (CRM) database we used in our lecture before!\n",
    "<img src='Database-Schema.png' width=550>"
   ]
  },
  {
   "cell_type": "markdown",
   "metadata": {},
   "source": [
    "## Connecting to the Database\n",
    "Import the necessary packages and connect to the database **data.sqlite**."
   ]
  },
  {
   "cell_type": "code",
   "execution_count": null,
   "metadata": {},
   "outputs": [],
   "source": [
    "#Your code here\n",
    "import sqlite3\n",
    "connection = sqlite3.connect('data.sqlite', detect_types=sqlite3.PARSE_COLNAMES)\n",
    "cur = connection.cursor()"
   ]
  },
  {
   "cell_type": "code",
   "execution_count": 17,
   "metadata": {},
   "outputs": [],
   "source": [
    "def sql_run(query):\n",
    "    return cur.execute(query).fetchall()"
   ]
  },
  {
   "cell_type": "markdown",
   "metadata": {},
   "source": [
    "## Display the names of all the employees in Boston."
   ]
  },
  {
   "cell_type": "code",
   "execution_count": 18,
   "metadata": {},
   "outputs": [
    {
     "data": {
      "text/plain": [
       "[('Julie', 'Firrelli'), ('Steve', 'Patterson')]"
      ]
     },
     "execution_count": 18,
     "metadata": {},
     "output_type": "execute_result"
    }
   ],
   "source": [
    "#Your code here\n",
    "sql_run('''SELECT firstName, lastName\n",
    "                FROM employees\n",
    "                JOIN offices\n",
    "                USING(officeCode)\n",
    "                WHERE city = 'Boston';''')"
   ]
  },
  {
   "cell_type": "markdown",
   "metadata": {},
   "source": [
    "## Do any offices have no employees?"
   ]
  },
  {
   "cell_type": "code",
   "execution_count": 20,
   "metadata": {},
   "outputs": [
    {
     "data": {
      "text/plain": [
       "[('1',\n",
       "  'San Francisco',\n",
       "  '+1 650 219 4782',\n",
       "  '100 Market Street',\n",
       "  'Suite 300',\n",
       "  'CA',\n",
       "  'USA',\n",
       "  '94080',\n",
       "  'NA'),\n",
       " ('1',\n",
       "  'San Francisco',\n",
       "  '+1 650 219 4782',\n",
       "  '100 Market Street',\n",
       "  'Suite 300',\n",
       "  'CA',\n",
       "  'USA',\n",
       "  '94080',\n",
       "  'NA'),\n",
       " ('1',\n",
       "  'San Francisco',\n",
       "  '+1 650 219 4782',\n",
       "  '100 Market Street',\n",
       "  'Suite 300',\n",
       "  'CA',\n",
       "  'USA',\n",
       "  '94080',\n",
       "  'NA'),\n",
       " ('6',\n",
       "  'Sydney',\n",
       "  '+61 2 9264 2451',\n",
       "  '5-11 Wentworth Avenue',\n",
       "  'Floor #2',\n",
       "  '',\n",
       "  'Australia',\n",
       "  'NSW 2010',\n",
       "  'APAC'),\n",
       " ('4',\n",
       "  'Paris',\n",
       "  '+33 14 723 4404',\n",
       "  \"43 Rue Jouffroy D'abbans\",\n",
       "  '',\n",
       "  '',\n",
       "  'France',\n",
       "  '75017',\n",
       "  'EMEA'),\n",
       " ('1',\n",
       "  'San Francisco',\n",
       "  '+1 650 219 4782',\n",
       "  '100 Market Street',\n",
       "  'Suite 300',\n",
       "  'CA',\n",
       "  'USA',\n",
       "  '94080',\n",
       "  'NA'),\n",
       " ('1',\n",
       "  'San Francisco',\n",
       "  '+1 650 219 4782',\n",
       "  '100 Market Street',\n",
       "  'Suite 300',\n",
       "  'CA',\n",
       "  'USA',\n",
       "  '94080',\n",
       "  'NA'),\n",
       " ('1',\n",
       "  'San Francisco',\n",
       "  '+1 650 219 4782',\n",
       "  '100 Market Street',\n",
       "  'Suite 300',\n",
       "  'CA',\n",
       "  'USA',\n",
       "  '94080',\n",
       "  'NA'),\n",
       " ('2',\n",
       "  'Boston',\n",
       "  '+1 215 837 0825',\n",
       "  '1550 Court Place',\n",
       "  'Suite 102',\n",
       "  'MA',\n",
       "  'USA',\n",
       "  '02107',\n",
       "  'NA'),\n",
       " ('2',\n",
       "  'Boston',\n",
       "  '+1 215 837 0825',\n",
       "  '1550 Court Place',\n",
       "  'Suite 102',\n",
       "  'MA',\n",
       "  'USA',\n",
       "  '02107',\n",
       "  'NA'),\n",
       " ('3',\n",
       "  'NYC',\n",
       "  '+1 212 555 3000',\n",
       "  '523 East 53rd Street',\n",
       "  'apt. 5A',\n",
       "  'NY',\n",
       "  'USA',\n",
       "  '10022',\n",
       "  'NA'),\n",
       " ('3',\n",
       "  'NYC',\n",
       "  '+1 212 555 3000',\n",
       "  '523 East 53rd Street',\n",
       "  'apt. 5A',\n",
       "  'NY',\n",
       "  'USA',\n",
       "  '10022',\n",
       "  'NA'),\n",
       " ('4',\n",
       "  'Paris',\n",
       "  '+33 14 723 4404',\n",
       "  \"43 Rue Jouffroy D'abbans\",\n",
       "  '',\n",
       "  '',\n",
       "  'France',\n",
       "  '75017',\n",
       "  'EMEA'),\n",
       " ('4',\n",
       "  'Paris',\n",
       "  '+33 14 723 4404',\n",
       "  \"43 Rue Jouffroy D'abbans\",\n",
       "  '',\n",
       "  '',\n",
       "  'France',\n",
       "  '75017',\n",
       "  'EMEA'),\n",
       " ('4',\n",
       "  'Paris',\n",
       "  '+33 14 723 4404',\n",
       "  \"43 Rue Jouffroy D'abbans\",\n",
       "  '',\n",
       "  '',\n",
       "  'France',\n",
       "  '75017',\n",
       "  'EMEA'),\n",
       " ('7',\n",
       "  'London',\n",
       "  '+44 20 7877 2041',\n",
       "  '25 Old Broad Street',\n",
       "  'Level 7',\n",
       "  '',\n",
       "  'UK',\n",
       "  'EC2N 1HN',\n",
       "  'EMEA'),\n",
       " ('7',\n",
       "  'London',\n",
       "  '+44 20 7877 2041',\n",
       "  '25 Old Broad Street',\n",
       "  'Level 7',\n",
       "  '',\n",
       "  'UK',\n",
       "  'EC2N 1HN',\n",
       "  'EMEA'),\n",
       " ('6',\n",
       "  'Sydney',\n",
       "  '+61 2 9264 2451',\n",
       "  '5-11 Wentworth Avenue',\n",
       "  'Floor #2',\n",
       "  '',\n",
       "  'Australia',\n",
       "  'NSW 2010',\n",
       "  'APAC'),\n",
       " ('6',\n",
       "  'Sydney',\n",
       "  '+61 2 9264 2451',\n",
       "  '5-11 Wentworth Avenue',\n",
       "  'Floor #2',\n",
       "  '',\n",
       "  'Australia',\n",
       "  'NSW 2010',\n",
       "  'APAC'),\n",
       " ('6',\n",
       "  'Sydney',\n",
       "  '+61 2 9264 2451',\n",
       "  '5-11 Wentworth Avenue',\n",
       "  'Floor #2',\n",
       "  '',\n",
       "  'Australia',\n",
       "  'NSW 2010',\n",
       "  'APAC'),\n",
       " ('5',\n",
       "  'Tokyo',\n",
       "  '+81 33 224 5000',\n",
       "  '4-1 Kioicho',\n",
       "  '',\n",
       "  'Chiyoda-Ku',\n",
       "  'Japan',\n",
       "  '102-8578',\n",
       "  'Japan'),\n",
       " ('5',\n",
       "  'Tokyo',\n",
       "  '+81 33 224 5000',\n",
       "  '4-1 Kioicho',\n",
       "  '',\n",
       "  'Chiyoda-Ku',\n",
       "  'Japan',\n",
       "  '102-8578',\n",
       "  'Japan'),\n",
       " ('4',\n",
       "  'Paris',\n",
       "  '+33 14 723 4404',\n",
       "  \"43 Rue Jouffroy D'abbans\",\n",
       "  '',\n",
       "  '',\n",
       "  'France',\n",
       "  '75017',\n",
       "  'EMEA')]"
      ]
     },
     "execution_count": 20,
     "metadata": {},
     "output_type": "execute_result"
    }
   ],
   "source": [
    "#Your code here\n",
    "sql_run('''SELECT offices.*\n",
    "           FROM employees\n",
    "           INNER JOIN offices\n",
    "           USING(officeCode);\n",
    "        ''')"
   ]
  },
  {
   "cell_type": "markdown",
   "metadata": {},
   "source": [
    "## Write 3 Questions of your own and answer them"
   ]
  },
  {
   "cell_type": "code",
   "execution_count": null,
   "metadata": {},
   "outputs": [],
   "source": [
    "# Answers will vary"
   ]
  },
  {
   "cell_type": "code",
   "execution_count": null,
   "metadata": {},
   "outputs": [],
   "source": [
    "# Your code here"
   ]
  },
  {
   "cell_type": "code",
   "execution_count": null,
   "metadata": {},
   "outputs": [],
   "source": [
    "# Your code here"
   ]
  },
  {
   "cell_type": "code",
   "execution_count": null,
   "metadata": {},
   "outputs": [],
   "source": [
    "# Your code here"
   ]
  },
  {
   "cell_type": "markdown",
   "metadata": {},
   "source": [
    "## Level Up: Display the names of each product each employee has sold."
   ]
  },
  {
   "cell_type": "code",
   "execution_count": null,
   "metadata": {},
   "outputs": [],
   "source": [
    "# Your code here"
   ]
  },
  {
   "cell_type": "markdown",
   "metadata": {},
   "source": [
    "## Level Up: Display the Number of Products each Employee Has sold"
   ]
  },
  {
   "cell_type": "code",
   "execution_count": null,
   "metadata": {},
   "outputs": [],
   "source": [
    "#Your code here"
   ]
  },
  {
   "cell_type": "markdown",
   "metadata": {},
   "source": [
    "## Summary"
   ]
  },
  {
   "cell_type": "markdown",
   "metadata": {},
   "source": [
    "Congrats! You now know how to use Join statements, along with leveraging your foreign keys knowledge!"
   ]
  }
 ],
 "metadata": {
  "kernelspec": {
   "display_name": "Python 3",
   "language": "python",
   "name": "python3"
  },
  "language_info": {
   "codemirror_mode": {
    "name": "ipython",
    "version": 3
   },
   "file_extension": ".py",
   "mimetype": "text/x-python",
   "name": "python",
   "nbconvert_exporter": "python",
   "pygments_lexer": "ipython3",
   "version": "3.6.6"
  }
 },
 "nbformat": 4,
 "nbformat_minor": 2
}
